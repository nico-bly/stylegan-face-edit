{
 "cells": [
  {
   "cell_type": "markdown",
   "metadata": {},
   "source": [
    "# Bimodal VAE (+PCA term?)"
   ]
  },
  {
   "cell_type": "code",
   "execution_count": 3,
   "metadata": {},
   "outputs": [],
   "source": [
    "import torch\n",
    "import torch.nn as nn\n",
    "import torch.optim as optim\n",
    "from torch.utils.data import DataLoader, TensorDataset\n",
    "from sklearn.preprocessing import StandardScaler\n",
    "import numpy as np\n",
    "import generate_nb\n",
    "import matplotlib.pyplot as plt\n",
    "import torch\n",
    "import numpy as np\n",
    "import dnnlib\n",
    "import legacy\n",
    "from sklearn.decomposition import PCA\n",
    "from sklearn.preprocessing import StandardScaler\n",
    "from torch.optim.lr_scheduler import ReduceLROnPlateau\n",
    "from sklearn.pipeline import Pipeline\n",
    "from sklearn.preprocessing import MinMaxScaler, StandardScaler\n",
    "from torch.optim import Adam\n",
    "import projector_nb\n",
    "import numpy as np\n",
    "import torch\n",
    "import torch\n",
    "import torch.nn as nn\n",
    "import torch.optim as optim\n",
    "from torch.utils.data import DataLoader, TensorDataset\n",
    "from sklearn.preprocessing import StandardScaler\n",
    "from torch.optim.lr_scheduler import ReduceLROnPlateau\n"
   ]
  },
  {
   "cell_type": "code",
   "execution_count": 4,
   "metadata": {},
   "outputs": [],
   "source": [
    "batch_size = 16"
   ]
  },
  {
   "cell_type": "code",
   "execution_count": 5,
   "metadata": {},
   "outputs": [
    {
     "name": "stdout",
     "output_type": "stream",
     "text": [
      "0.0\n",
      "1.0\n"
     ]
    }
   ],
   "source": [
    "network = \"https://nvlabs-fi-cdn.nvidia.com/stylegan2-ada-pytorch/pretrained/ffhq.pkl\"\n",
    "device = torch.device(\"cuda\" if torch.cuda.is_available() else \"cpu\")\n",
    "\n",
    "with dnnlib.util.open_url(network) as fp:\n",
    "        G = legacy.load_network_pkl(fp)['G_ema'].requires_grad_(False).to(device)\n",
    "        \n",
    "def generate_samples(G, num_samples):\n",
    "    z_samples = np.random.RandomState().randn(num_samples, 512).astype(np.float32) \n",
    "    \n",
    "    w_samples = G.mapping(torch.from_numpy(z_samples).to(device), None)  # [N, L, C]\n",
    "    w_samples = w_samples.cpu().numpy()\n",
    "    w_samples = w_samples[:,0,:]\n",
    "\n",
    "    return w_samples\n",
    "\n",
    "\n",
    "w_samples_ae = generate_samples(G, 1000)\n",
    "\n",
    "# Define your data preprocessing pipeline\n",
    "preprocessing_pipeline = Pipeline([\n",
    "    ('standard', StandardScaler()),\n",
    "    ('minmax', MinMaxScaler())\n",
    "])\n",
    "\n",
    "w_samples_scaled = preprocessing_pipeline.fit_transform(w_samples_ae)\n",
    "w_samples_scaled = np.clip(w_samples_scaled, 0, 1)\n",
    "print(np.min(w_samples_scaled))\n",
    "print(np.max(w_samples_scaled))\n",
    "dataset = TensorDataset(torch.tensor(w_samples_scaled, dtype=torch.float32))\n",
    "dataloader = DataLoader(dataset, batch_size=batch_size, shuffle=True)\n",
    "\n",
    "input_dim = 512\n",
    "hidden_dim = 256\n",
    "latent_dim = 100\n",
    "batch_size = 16\n",
    "epochs = 10\n",
    "learning_rate = 1e-3"
   ]
  },
  {
   "cell_type": "code",
   "execution_count": 9,
   "metadata": {},
   "outputs": [],
   "source": [
    "\n",
    "class VAE(nn.Module):\n",
    "    def __init__(self, input_dim, hidden_dim, latent_dim):\n",
    "        super(VAE, self).__init__()\n",
    "        \n",
    "        # Encoder\n",
    "        self.encoder = nn.Sequential(\n",
    "            nn.Linear(input_dim, hidden_dim),\n",
    "            nn.LeakyReLU(negative_slope=0.01),\n",
    "            nn.Linear(hidden_dim, hidden_dim ),\n",
    "            nn.LeakyReLU(negative_slope=0.01),\n",
    "            nn.Linear(hidden_dim , hidden_dim ),\n",
    "            nn.LeakyReLU(negative_slope=0.01),\n",
    "            nn.Linear(hidden_dim, latent_dim * 2)  # 2 for mean and variance\n",
    "        )\n",
    "        \n",
    "        # Decoder\n",
    "        self.decoder = nn.Sequential(\n",
    "            nn.Linear(latent_dim, hidden_dim ),\n",
    "            nn.LeakyReLU(negative_slope=0.01),\n",
    "            nn.Linear(hidden_dim , hidden_dim ),\n",
    "            nn.LeakyReLU(negative_slope=0.01),\n",
    "            nn.Linear(hidden_dim , hidden_dim),\n",
    "            nn.LeakyReLU(negative_slope=0.01),\n",
    "            nn.Linear(hidden_dim, input_dim),\n",
    "            nn.Sigmoid()\n",
    "        )\n",
    "\n",
    "        \n",
    "    def encode(self, x):\n",
    "        h = self.encoder(x)\n",
    "        mean, log_var = torch.chunk(h, 2, dim=1)\n",
    "        return mean, log_var\n",
    "    \n",
    "    def reparameterize(self, mean, log_var):\n",
    "        std = torch.exp(0.5 * log_var)\n",
    "        eps = torch.randn_like(std)\n",
    "        return mean + eps * std\n",
    "    \n",
    "    def decode(self, z):\n",
    "        return self.decoder(z)\n",
    "    \n",
    "    def forward(self, x):\n",
    "        mean, log_var = self.encode(x)\n",
    "        z = self.reparameterize(mean, log_var)\n",
    "        x_recon = self.decode(z)\n",
    "        return x_recon, mean, log_var\n",
    "\n",
    "# Define loss function\n",
    "def loss_function(recon_x, x, mean, log_var):\n",
    "    BCE = nn.functional.binary_cross_entropy(recon_x, x, reduction='sum')\n",
    "    KLD = -0.5 * torch.sum(1 + log_var - mean.pow(2) - log_var.exp())\n",
    "    return BCE + KLD\n"
   ]
  },
  {
   "cell_type": "code",
   "execution_count": 10,
   "metadata": {},
   "outputs": [],
   "source": [
    "vae = VAE(input_dim, hidden_dim, latent_dim).to(device)\n",
    "optimizer = optim.Adam(vae.parameters(), lr=learning_rate)"
   ]
  },
  {
   "cell_type": "code",
   "execution_count": 11,
   "metadata": {},
   "outputs": [
    {
     "name": "stdout",
     "output_type": "stream",
     "text": [
      "Epoch 1, Loss: 2267.936767578125\n",
      "Epoch 2, Loss: 2278.067626953125\n",
      "Epoch 3, Loss: 2286.799560546875\n",
      "Epoch 4, Loss: 2253.921875\n",
      "Epoch 5, Loss: 2241.602783203125\n",
      "Epoch 6, Loss: 2246.488525390625\n",
      "Epoch 7, Loss: 2257.04736328125\n",
      "Epoch 8, Loss: 2260.29736328125\n",
      "Epoch 9, Loss: 2300.54736328125\n",
      "Epoch 10, Loss: 2253.730224609375\n",
      "Training complete.\n"
     ]
    }
   ],
   "source": [
    "for epoch in range(epochs):\n",
    "    for data in dataloader:\n",
    "        x = data[0].to(device)\n",
    "        x_recon, mean, log_var = vae(x)\n",
    "\n",
    "        loss = loss_function(x_recon, x, mean, log_var)\n",
    "        optimizer.zero_grad()\n",
    "        loss.backward()\n",
    "        optimizer.step()\n",
    "    \n",
    "    print(f'Epoch {epoch + 1}, Loss: {loss.item()}')\n",
    "\n",
    "print(\"Training complete.\")\n",
    "\n",
    "torch.save(vae.state_dict(), 'vae_model.pth')"
   ]
  }
 ],
 "metadata": {
  "kernelspec": {
   "display_name": "stylegan_env",
   "language": "python",
   "name": "python3"
  },
  "language_info": {
   "codemirror_mode": {
    "name": "ipython",
    "version": 3
   },
   "file_extension": ".py",
   "mimetype": "text/x-python",
   "name": "python",
   "nbconvert_exporter": "python",
   "pygments_lexer": "ipython3",
   "version": "3.11.9"
  }
 },
 "nbformat": 4,
 "nbformat_minor": 2
}
